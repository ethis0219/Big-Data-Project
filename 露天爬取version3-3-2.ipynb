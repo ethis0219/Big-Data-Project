{
 "cells": [
  {
   "cell_type": "markdown",
   "metadata": {},
   "source": [
    "# 爬取露天品項網址(第一個run)"
   ]
  },
  {
   "cell_type": "code",
   "execution_count": 1,
   "metadata": {
    "collapsed": false,
    "scrolled": true
   },
   "outputs": [
    {
     "name": "stdout",
     "output_type": "stream",
     "text": [
      "['http://class.ruten.com.tw/category/sub00.php?c=00110002', 'http://class.ruten.com.tw/category/sub00.php?c=00110020', 'http://class.ruten.com.tw/category/sub00.php?c=00110013', 'http://class.ruten.com.tw/category/sub00.php?c=00110001', 'http://class.ruten.com.tw/category/sub00.php?c=00110003', 'http://class.ruten.com.tw/category/sub00.php?c=00110004', 'http://class.ruten.com.tw/category/sub00.php?c=00110006', 'http://class.ruten.com.tw/category/sub00.php?c=00110014', 'http://class.ruten.com.tw/category/sub00.php?c=00110005', 'http://class.ruten.com.tw/category/sub00.php?c=00110016', 'http://class.ruten.com.tw/category/sub00.php?c=00110009', 'http://class.ruten.com.tw/category/sub00.php?c=00110022', 'http://class.ruten.com.tw/category/sub00.php?c=00110007', 'http://class.ruten.com.tw/category/sub00.php?c=00110018', 'http://class.ruten.com.tw/category/sub00.php?c=00110021', 'http://class.ruten.com.tw/category/sub00.php?c=00110023', 'http://class.ruten.com.tw/category/sub00.php?c=00110017', 'http://class.ruten.com.tw/category/sub00.php?c=00110019', 'http://class.ruten.com.tw/category/sub00.php?c=00110008', 'http://class.ruten.com.tw/category/sub00.php?c=0007002200020001', 'http://class.ruten.com.tw/category/sub00.php?c=00110015', 'http://class.ruten.com.tw/category/sub00.php?c=00210001', 'http://class.ruten.com.tw/category/sub00.php?c=0021000100470003', 'http://class.ruten.com.tw/category/sub00.php?c=00210003', 'http://class.ruten.com.tw/category/sub00.php?c=00210010', 'http://class.ruten.com.tw/category/sub00.php?c=00210019', 'http://class.ruten.com.tw/category/sub00.php?c=00210002', 'http://class.ruten.com.tw/category/sub00.php?c=00210016', 'http://class.ruten.com.tw/category/sub00.php?c=00210017', 'http://class.ruten.com.tw/category/sub00.php?c=00210021', 'http://class.ruten.com.tw/category/sub00.php?c=00210014', 'http://class.ruten.com.tw/category/sub00.php?c=00210023', 'http://class.ruten.com.tw/category/sub00.php?c=00210022', 'http://class.ruten.com.tw/category/sub00.php?c=00210018', 'http://class.ruten.com.tw/category/sub00.php?c=00210012', 'http://class.ruten.com.tw/category/sub00.php?c=00210011', 'http://class.ruten.com.tw/category/sub00.php?c=00210013', 'http://class.ruten.com.tw/category/sub00.php?c=00230024', 'http://class.ruten.com.tw/category/sub00.php?c=00230018', 'http://class.ruten.com.tw/category/sub00.php?c=00230001', 'http://class.ruten.com.tw/category/sub00.php?c=00230023', 'http://class.ruten.com.tw/category/sub00.php?c=00230027', 'http://class.ruten.com.tw/category/sub00.php?c=00230014', 'http://class.ruten.com.tw/category/sub00.php?c=00230003', 'http://class.ruten.com.tw/category/sub00.php?c=00230010', 'http://class.ruten.com.tw/category/sub00.php?c=00230030', 'http://class.ruten.com.tw/category/sub00.php?c=00230029', 'http://class.ruten.com.tw/category/sub00.php?c=00230013', 'http://class.ruten.com.tw/category/sub00.php?c=00230019', 'http://class.ruten.com.tw/category/sub00.php?c=00230012', 'http://class.ruten.com.tw/category/sub00.php?c=00230009', 'http://class.ruten.com.tw/category/sub00.php?c=00230026', 'http://class.ruten.com.tw/category/sub00.php?c=002300180002', 'http://class.ruten.com.tw/category/sub00.php?c=002300090001', 'http://class.ruten.com.tw/category/sub00.php?c=002300030001', 'http://class.ruten.com.tw/category/sub00.php?c=002300140001', 'http://class.ruten.com.tw/category/sub00.php?c=00230039', 'http://class.ruten.com.tw/category/sub00.php?c=00230028', 'http://class.ruten.com.tw/category/sub00.php?c=00230006', 'http://class.ruten.com.tw/category/sub00.php?c=00230038', 'http://class.ruten.com.tw/category/sub00.php?c=00230035', 'http://class.ruten.com.tw/category/sub00.php?c=00230025', 'http://class.ruten.com.tw/category/sub00.php?c=002300180010', 'http://class.ruten.com.tw/category/sub00.php?c=00230037', 'http://class.ruten.com.tw/category/sub00.php?c=00230036', 'http://class.ruten.com.tw/category/sub00.php?c=00230040', 'http://class.ruten.com.tw/category/sub00.php?c=00190001', 'http://class.ruten.com.tw/category/sub00.php?c=00190002', 'http://class.ruten.com.tw/category/sub00.php?c=00190007', 'http://class.ruten.com.tw/category/sub00.php?c=00190006', 'http://class.ruten.com.tw/category/sub00.php?c=00190004', 'http://class.ruten.com.tw/category/sub00.php?c=00190005', 'http://class.ruten.com.tw/category/sub00.php?c=00190008', 'http://class.ruten.com.tw/category/sub00.php?c=00190009', 'http://class.ruten.com.tw/category/sub00.php?c=00190010', 'http://class.ruten.com.tw/category/sub00.php?c=00190011', 'http://class.ruten.com.tw/category/sub00.php?c=00080001', 'http://class.ruten.com.tw/category/sub00.php?c=00080017', 'http://class.ruten.com.tw/category/sub00.php?c=00080008', 'http://class.ruten.com.tw/category/sub00.php?c=00080020', 'http://class.ruten.com.tw/category/sub00.php?c=00080003', 'http://class.ruten.com.tw/category/sub00.php?c=00080009', 'http://class.ruten.com.tw/category/sub00.php?c=00080002', 'http://class.ruten.com.tw/category/sub00.php?c=00080007', 'http://class.ruten.com.tw/category/sub00.php?c=000800050023', 'http://class.ruten.com.tw/category/sub00.php?c=00080005', 'http://class.ruten.com.tw/category/sub00.php?c=00080006', 'http://class.ruten.com.tw/category/sub00.php?c=00080018', 'http://class.ruten.com.tw/category/sub00.php?c=00080024', 'http://class.ruten.com.tw/category/sub00.php?c=00080022', 'http://class.ruten.com.tw/category/sub00.php?c=00080021', 'http://class.ruten.com.tw/category/sub00.php?c=00080023', 'http://class.ruten.com.tw/category/sub00.php?c=00080019', 'http://class.ruten.com.tw/category/sub00.php?c=00080025', 'http://class.ruten.com.tw/category/sub00.php?c=00080026', 'http://class.ruten.com.tw/category/sub00.php?c=00080027', 'http://class.ruten.com.tw/category/sub00.php?c=00050001', 'http://class.ruten.com.tw/category/sub00.php?c=00050002', 'http://class.ruten.com.tw/category/sub00.php?c=00050025', 'http://class.ruten.com.tw/category/sub00.php?c=00050003', 'http://class.ruten.com.tw/category/sub00.php?c=00050011', 'http://class.ruten.com.tw/category/sub00.php?c=00050012', 'http://class.ruten.com.tw/category/sub00.php?c=00050024', 'http://class.ruten.com.tw/category/sub00.php?c=00050015', 'http://class.ruten.com.tw/category/sub00.php?c=00050017', 'http://class.ruten.com.tw/category/sub00.php?c=00050016', 'http://class.ruten.com.tw/category/sub00.php?c=00050007', 'http://class.ruten.com.tw/category/sub00.php?c=00050009', 'http://class.ruten.com.tw/category/sub00.php?c=00050013', 'http://class.ruten.com.tw/category/sub00.php?c=00050004', 'http://class.ruten.com.tw/category/sub00.php?c=00050014', 'http://class.ruten.com.tw/category/sub00.php?c=00050020', 'http://class.ruten.com.tw/category/sub00.php?c=00050019', 'http://class.ruten.com.tw/category/sub00.php?c=00050018', 'http://class.ruten.com.tw/category/sub00.php?c=000500070006', 'http://class.ruten.com.tw/category/sub00.php?c=000500030007', 'http://class.ruten.com.tw/category/sub00.php?c=00050008', 'http://class.ruten.com.tw/category/sub00.php?c=00250011', 'http://class.ruten.com.tw/category/sub00.php?c=00050027', 'http://class.ruten.com.tw/category/sub00.php?c=00220006', 'http://class.ruten.com.tw/category/sub00.php?c=00220009', 'http://class.ruten.com.tw/category/sub00.php?c=00220013', 'http://class.ruten.com.tw/category/sub00.php?c=00220014', 'http://class.ruten.com.tw/category/sub00.php?c=00220010', 'http://class.ruten.com.tw/category/sub00.php?c=00220007', 'http://class.ruten.com.tw/category/sub00.php?c=00220008', 'http://class.ruten.com.tw/category/sub00.php?c=00220011', 'http://class.ruten.com.tw/category/sub00.php?c=00220012', 'http://class.ruten.com.tw/category/sub00.php?c=00220015', 'http://class.ruten.com.tw/category/sub00.php?c=00220002', 'http://class.ruten.com.tw/category/sub00.php?c=00220021', 'http://class.ruten.com.tw/category/sub00.php?c=00220017', 'http://class.ruten.com.tw/category/sub00.php?c=00220016', 'http://class.ruten.com.tw/category/sub00.php?c=00220001', 'http://class.ruten.com.tw/category/sub00.php?c=00220004', 'http://class.ruten.com.tw/category/sub00.php?c=00220018', 'http://class.ruten.com.tw/category/sub00.php?c=00220003', 'http://class.ruten.com.tw/category/sub00.php?c=00220019', 'http://class.ruten.com.tw/category/sub00.php?c=00220020', 'http://class.ruten.com.tw/category/sub00.php?c=00220005', 'http://class.ruten.com.tw/category/sub00.php?c=00220022', 'http://class.ruten.com.tw/category/sub00.php?c=00220023', 'http://class.ruten.com.tw/category/sub00.php?c=00090002', 'http://class.ruten.com.tw/category/sub00.php?c=00090004', 'http://class.ruten.com.tw/category/sub00.php?c=00090005', 'http://class.ruten.com.tw/category/sub00.php?c=00090017', 'http://class.ruten.com.tw/category/sub00.php?c=00090007', 'http://class.ruten.com.tw/category/sub00.php?c=00090008', 'http://class.ruten.com.tw/category/sub00.php?c=00090013', 'http://class.ruten.com.tw/category/sub00.php?c=00090015', 'http://class.ruten.com.tw/category/sub00.php?c=00090009', 'http://class.ruten.com.tw/category/sub00.php?c=00090011', 'http://class.ruten.com.tw/category/sub00.php?c=00090016', 'http://class.ruten.com.tw/category/sub00.php?c=00090001', 'http://class.ruten.com.tw/category/sub00.php?c=00090014', 'http://class.ruten.com.tw/category/sub00.php?c=00090019', 'http://class.ruten.com.tw/category/sub00.php?c=00090018', 'http://class.ruten.com.tw/category/sub00.php?c=00090020', 'http://class.ruten.com.tw/category/sub00.php?c=00180001', 'http://class.ruten.com.tw/category/sub00.php?c=00180002', 'http://class.ruten.com.tw/category/sub00.php?c=00180003', 'http://class.ruten.com.tw/category/sub00.php?c=00180035', 'http://class.ruten.com.tw/category/sub00.php?c=00180004', 'http://class.ruten.com.tw/category/sub00.php?c=00180005', 'http://class.ruten.com.tw/category/sub00.php?c=00180006', 'http://class.ruten.com.tw/category/sub00.php?c=00180007', 'http://class.ruten.com.tw/category/sub00.php?c=00180008', 'http://class.ruten.com.tw/category/sub00.php?c=00180037', 'http://class.ruten.com.tw/category/sub00.php?c=00180039', 'http://class.ruten.com.tw/category/sub00.php?c=00180011', 'http://class.ruten.com.tw/category/sub00.php?c=00180012', 'http://class.ruten.com.tw/category/sub00.php?c=00180013', 'http://class.ruten.com.tw/category/sub00.php?c=00180014', 'http://class.ruten.com.tw/category/sub00.php?c=00180015', 'http://class.ruten.com.tw/category/sub00.php?c=00180016', 'http://class.ruten.com.tw/category/sub00.php?c=00180017', 'http://class.ruten.com.tw/category/sub00.php?c=00180018', 'http://class.ruten.com.tw/category/sub00.php?c=00180038', 'http://class.ruten.com.tw/category/sub00.php?c=00180040', 'http://class.ruten.com.tw/category/sub00.php?c=00180020', 'http://class.ruten.com.tw/category/sub00.php?c=00180036', 'http://class.ruten.com.tw/category/sub00.php?c=00180021', 'http://class.ruten.com.tw/category/sub00.php?c=00180022', 'http://class.ruten.com.tw/category/sub00.php?c=00180041', 'http://class.ruten.com.tw/category/sub00.php?c=00180026', 'http://class.ruten.com.tw/category/sub00.php?c=000300030001', 'http://class.ruten.com.tw/category/sub00.php?c=000100020007', 'http://class.ruten.com.tw/category/sub00.php?c=00170001', 'http://class.ruten.com.tw/category/sub00.php?c=00180033', 'http://class.ruten.com.tw/category/sub00.php?c=00120016', 'http://class.ruten.com.tw/category/sub00.php?c=00180042', 'http://class.ruten.com.tw/category/sub00.php?c=00180043', 'http://class.ruten.com.tw/category/sub00.php?c=001800330010', 'http://class.ruten.com.tw/category/sub00.php?c=001500010010', 'http://class.ruten.com.tw/category/sub00.php?c=00030003', 'http://class.ruten.com.tw/category/sub00.php?c=00030011', 'http://class.ruten.com.tw/category/sub00.php?c=00030006', 'http://class.ruten.com.tw/category/sub00.php?c=00030004', 'http://class.ruten.com.tw/category/sub00.php?c=00030012', 'http://class.ruten.com.tw/category/sub00.php?c=00030013', 'http://class.ruten.com.tw/category/sub00.php?c=00200001', 'http://class.ruten.com.tw/category/sub00.php?c=00200002', 'http://class.ruten.com.tw/category/sub00.php?c=00200003', 'http://class.ruten.com.tw/category/sub00.php?c=00200004', 'http://class.ruten.com.tw/category/sub00.php?c=00200005', 'http://class.ruten.com.tw/category/sub00.php?c=00240001', 'http://class.ruten.com.tw/category/sub00.php?c=00240029', 'http://class.ruten.com.tw/category/sub00.php?c=00240003', 'http://class.ruten.com.tw/category/sub00.php?c=00240002', 'http://class.ruten.com.tw/category/sub00.php?c=00240033', 'http://class.ruten.com.tw/category/sub00.php?c=00240007', 'http://class.ruten.com.tw/category/sub00.php?c=00240008', 'http://class.ruten.com.tw/category/sub00.php?c=00240009', 'http://class.ruten.com.tw/category/sub00.php?c=00240012', 'http://class.ruten.com.tw/category/sub00.php?c=00240004', 'http://class.ruten.com.tw/category/sub00.php?c=00240006', 'http://class.ruten.com.tw/category/sub00.php?c=00240015', 'http://class.ruten.com.tw/category/sub00.php?c=00240030', 'http://class.ruten.com.tw/category/sub00.php?c=00240031', 'http://class.ruten.com.tw/category/sub00.php?c=00240017', 'http://class.ruten.com.tw/category/sub00.php?c=00240018', 'http://class.ruten.com.tw/category/sub00.php?c=00240019', 'http://class.ruten.com.tw/category/sub00.php?c=00240020', 'http://class.ruten.com.tw/category/sub00.php?c=00240021', 'http://class.ruten.com.tw/category/sub00.php?c=00240022', 'http://class.ruten.com.tw/category/sub00.php?c=00240034', 'http://class.ruten.com.tw/category/sub00.php?c=00240032', 'http://class.ruten.com.tw/category/sub00.php?c=00240016', 'http://class.ruten.com.tw/category/sub00.php?c=00240005', 'http://class.ruten.com.tw/category/sub00.php?c=00240023', 'http://class.ruten.com.tw/category/sub00.php?c=002000030005', 'http://class.ruten.com.tw/category/sub00.php?c=00060014', 'http://class.ruten.com.tw/category/sub00.php?c=00230014', 'http://class.ruten.com.tw/category/sub00.php?c=00090004', 'http://class.ruten.com.tw/category/sub00.php?c=000900040005', 'http://class.ruten.com.tw/category/sub00.php?c=00120007', 'http://class.ruten.com.tw/category/sub00.php?c=00120006', 'http://class.ruten.com.tw/category/sub00.php?c=00120008', 'http://class.ruten.com.tw/category/sub00.php?c=00120012', 'http://class.ruten.com.tw/category/sub00.php?c=00120001', 'http://class.ruten.com.tw/category/sub00.php?c=00120002', 'http://class.ruten.com.tw/category/sub00.php?c=00120005', 'http://class.ruten.com.tw/category/sub00.php?c=00120003', 'http://class.ruten.com.tw/category/sub00.php?c=00120004', 'http://class.ruten.com.tw/category/sub00.php?c=00120015', 'http://class.ruten.com.tw/category/sub00.php?c=00120016', 'http://class.ruten.com.tw/category/sub00.php?c=00120017', 'http://class.ruten.com.tw/category/sub00.php?c=00120018', 'http://class.ruten.com.tw/category/sub00.php?c=00120010', 'http://class.ruten.com.tw/category/sub00.php?c=00120019', 'http://class.ruten.com.tw/category/sub00.php?c=00020005', 'http://class.ruten.com.tw/category/sub00.php?c=00020007', 'http://class.ruten.com.tw/category/sub00.php?c=00020008', 'http://class.ruten.com.tw/category/sub00.php?c=00020010', 'http://class.ruten.com.tw/category/sub00.php?c=00020006', 'http://class.ruten.com.tw/category/sub00.php?c=00020011', 'http://class.ruten.com.tw/category/sub00.php?c=00020012', 'http://class.ruten.com.tw/category/sub00.php?c=00020013', 'http://class.ruten.com.tw/category/sub00.php?c=00020014', 'http://class.ruten.com.tw/category/sub00.php?c=00020030', 'http://class.ruten.com.tw/category/sub00.php?c=00020031', 'http://class.ruten.com.tw/category/sub00.php?c=00020033', 'http://class.ruten.com.tw/category/sub00.php?c=00020032', 'http://class.ruten.com.tw/category/sub00.php?c=00020018', 'http://class.ruten.com.tw/category/sub00.php?c=00020019', 'http://class.ruten.com.tw/category/sub00.php?c=00020020', 'http://class.ruten.com.tw/category/sub00.php?c=00020021', 'http://class.ruten.com.tw/category/sub00.php?c=00020034', 'http://class.ruten.com.tw/category/sub00.php?c=00020035', 'http://class.ruten.com.tw/category/sub00.php?c=00020022', 'http://class.ruten.com.tw/category/sub00.php?c=00020001', 'http://class.ruten.com.tw/category/sub00.php?c=00020036', 'http://class.ruten.com.tw/category/sub00.php?c=00020025', 'http://class.ruten.com.tw/category/sub00.php?c=00150007', 'http://class.ruten.com.tw/category/sub00.php?c=00140003', 'http://class.ruten.com.tw/category/sub00.php?c=001200040002', 'http://class.ruten.com.tw/category/sub00.php?c=00150007', 'http://class.ruten.com.tw/category/sub00.php?c=00150008', 'http://class.ruten.com.tw/category/sub00.php?c=00140003', 'http://class.ruten.com.tw/category/sub00.php?c=00140010', 'http://class.ruten.com.tw/category/sub00.php?c=00140011', 'http://class.ruten.com.tw/category/sub00.php?c=00140020', 'http://class.ruten.com.tw/category/sub00.php?c=00140012', 'http://class.ruten.com.tw/category/sub00.php?c=00140013', 'http://class.ruten.com.tw/category/sub00.php?c=00140014', 'http://class.ruten.com.tw/category/sub00.php?c=00140015', 'http://class.ruten.com.tw/category/sub00.php?c=00140016', 'http://class.ruten.com.tw/category/sub00.php?c=00140002', 'http://class.ruten.com.tw/category/sub00.php?c=00140017', 'http://class.ruten.com.tw/category/sub00.php?c=00140025', 'http://class.ruten.com.tw/category/sub00.php?c=00140019', 'http://class.ruten.com.tw/category/sub00.php?c=00140008', 'http://class.ruten.com.tw/category/sub00.php?c=001700120002', 'http://class.ruten.com.tw/category/sub00.php?c=001700130002', 'http://class.ruten.com.tw/category/sub00.php?c=00170014', 'http://class.ruten.com.tw/category/sub00.php?c=00180016', 'http://class.ruten.com.tw/category/sub00.php?c=00170002', 'http://class.ruten.com.tw/category/sub00.php?c=0002003600020016', 'http://class.ruten.com.tw/category/sub00.php?c=00150007', 'http://class.ruten.com.tw/category/sub00.php?c=00150008', 'http://class.ruten.com.tw/category/sub00.php?c=00150001', 'http://class.ruten.com.tw/category/sub00.php?c=00150005', 'http://class.ruten.com.tw/category/sub00.php?c=00150006', 'http://class.ruten.com.tw/category/sub00.php?c=00150019', 'http://class.ruten.com.tw/category/sub00.php?c=00160001', 'http://class.ruten.com.tw/category/sub00.php?c=00160002', 'http://class.ruten.com.tw/category/sub00.php?c=00160003', 'http://class.ruten.com.tw/category/sub00.php?c=00160004', 'http://class.ruten.com.tw/category/sub00.php?c=00160005', 'http://class.ruten.com.tw/category/sub00.php?c=00160006', 'http://class.ruten.com.tw/category/sub00.php?c=00160007', 'http://class.ruten.com.tw/category/sub00.php?c=00160008', 'http://class.ruten.com.tw/category/sub00.php?c=00160009', 'http://class.ruten.com.tw/category/sub00.php?c=00160010', 'http://class.ruten.com.tw/category/sub00.php?c=00160011', 'http://class.ruten.com.tw/category/sub00.php?c=00160012', 'http://class.ruten.com.tw/category/sub00.php?c=00160013', 'http://class.ruten.com.tw/category/sub00.php?c=00020010', 'http://class.ruten.com.tw/category/sub00.php?c=000200220011', 'http://class.ruten.com.tw/category/sub00.php?c=00250003', 'http://class.ruten.com.tw/category/sub00.php?c=00160017', 'http://class.ruten.com.tw/category/sub00.php?c=00010011', 'http://class.ruten.com.tw/category/sub00.php?c=00010012', 'http://class.ruten.com.tw/category/sub00.php?c=00010001', 'http://class.ruten.com.tw/category/sub00.php?c=00010002', 'http://class.ruten.com.tw/category/sub00.php?c=00010003', 'http://class.ruten.com.tw/category/sub00.php?c=00010013', 'http://class.ruten.com.tw/category/sub00.php?c=00010005', 'http://class.ruten.com.tw/category/sub00.php?c=00010006', 'http://class.ruten.com.tw/category/sub00.php?c=00010007', 'http://class.ruten.com.tw/category/sub00.php?c=00010014', 'http://class.ruten.com.tw/category/sub00.php?c=00060003', 'http://class.ruten.com.tw/category/sub00.php?c=00060030', 'http://class.ruten.com.tw/category/sub00.php?c=00060034', 'http://class.ruten.com.tw/category/sub00.php?c=00060007', 'http://class.ruten.com.tw/category/sub00.php?c=00060010', 'http://class.ruten.com.tw/category/sub00.php?c=00060025', 'http://class.ruten.com.tw/category/sub00.php?c=00060011', 'http://class.ruten.com.tw/category/sub00.php?c=00060017', 'http://class.ruten.com.tw/category/sub00.php?c=00060026', 'http://class.ruten.com.tw/category/sub00.php?c=00060022', 'http://class.ruten.com.tw/category/sub00.php?c=00060018', 'http://class.ruten.com.tw/category/sub00.php?c=00060006', 'http://class.ruten.com.tw/category/sub00.php?c=00060009', 'http://class.ruten.com.tw/category/sub00.php?c=00060027', 'http://class.ruten.com.tw/category/sub00.php?c=00060028', 'http://class.ruten.com.tw/category/sub00.php?c=00060012', 'http://class.ruten.com.tw/category/sub00.php?c=00060023', 'http://class.ruten.com.tw/category/sub00.php?c=00060013', 'http://class.ruten.com.tw/category/sub00.php?c=00060021', 'http://class.ruten.com.tw/category/sub00.php?c=00060024', 'http://class.ruten.com.tw/category/sub00.php?c=00060001', 'http://class.ruten.com.tw/category/sub00.php?c=00060002', 'http://class.ruten.com.tw/category/sub00.php?c=00060015', 'http://class.ruten.com.tw/category/sub00.php?c=00060029', 'http://class.ruten.com.tw/category/sub00.php?c=00060019', 'http://class.ruten.com.tw/category/sub00.php?c=00060020', 'http://class.ruten.com.tw/category/sub00.php?c=00060032', 'http://class.ruten.com.tw/category/sub00.php?c=00060016', 'http://class.ruten.com.tw/category/sub00.php?c=00060014', 'http://class.ruten.com.tw/category/sub00.php?c=00060008', 'http://class.ruten.com.tw/category/sub00.php?c=00060031', 'http://class.ruten.com.tw/category/sub00.php?c=00060033', 'http://class.ruten.com.tw/category/sub00.php?c=00100003', 'http://class.ruten.com.tw/category/sub00.php?c=00100008', 'http://class.ruten.com.tw/category/sub00.php?c=00100004', 'http://class.ruten.com.tw/category/sub00.php?c=00100001', 'http://class.ruten.com.tw/category/sub00.php?c=00100002', 'http://class.ruten.com.tw/category/sub00.php?c=00100010', 'http://class.ruten.com.tw/category/sub00.php?c=00100006', 'http://class.ruten.com.tw/category/sub00.php?c=00100007', 'http://class.ruten.com.tw/category/sub00.php?c=00100009', 'http://class.ruten.com.tw/category/sub00.php?c=00100011', 'http://class.ruten.com.tw/category/sub00.php?c=00100012', 'http://class.ruten.com.tw/category/sub00.php?c=00100013', 'http://class.ruten.com.tw/category/sub00.php?c=00100014', 'http://class.ruten.com.tw/category/sub00.php?c=00100015', 'http://class.ruten.com.tw/category/sub00.php?c=00100016', 'http://class.ruten.com.tw/category/sub00.php?c=00100017', 'http://class.ruten.com.tw/category/sub00.php?c=00040001', 'http://class.ruten.com.tw/category/sub00.php?c=00040002', 'http://class.ruten.com.tw/category/sub00.php?c=00040003', 'http://class.ruten.com.tw/category/sub00.php?c=00040004', 'http://class.ruten.com.tw/category/sub00.php?c=00040005', 'http://class.ruten.com.tw/category/sub00.php?c=00040006', 'http://class.ruten.com.tw/category/sub00.php?c=00040007', 'http://class.ruten.com.tw/category/sub00.php?c=00040008', 'http://class.ruten.com.tw/category/sub00.php?c=00040009', 'http://class.ruten.com.tw/category/sub00.php?c=00040010', 'http://class.ruten.com.tw/category/sub00.php?c=00040011', 'http://class.ruten.com.tw/category/sub00.php?c=00040012', 'http://class.ruten.com.tw/category/sub00.php?c=00040015', 'http://class.ruten.com.tw/category/sub00.php?c=00040016', 'http://class.ruten.com.tw/category/sub00.php?c=00040017', 'http://class.ruten.com.tw/category/sub00.php?c=00040014', 'http://class.ruten.com.tw/category/sub00.php?c=00040018', 'http://class.ruten.com.tw/category/sub00.php?c=00170001', 'http://class.ruten.com.tw/category/sub00.php?c=00170002', 'http://class.ruten.com.tw/category/sub00.php?c=00170003', 'http://class.ruten.com.tw/category/sub00.php?c=00170004', 'http://class.ruten.com.tw/category/sub00.php?c=00170005', 'http://class.ruten.com.tw/category/sub00.php?c=00170006', 'http://class.ruten.com.tw/category/sub00.php?c=00170007', 'http://class.ruten.com.tw/category/sub00.php?c=00170012', 'http://class.ruten.com.tw/category/sub00.php?c=00170013', 'http://class.ruten.com.tw/category/sub00.php?c=00170014', 'http://class.ruten.com.tw/category/sub00.php?c=00170015', 'http://class.ruten.com.tw/category/sub00.php?c=00170020', 'http://class.ruten.com.tw/category/sub00.php?c=00170021', 'http://class.ruten.com.tw/category/sub00.php?c=00130008', 'http://class.ruten.com.tw/category/sub00.php?c=00130006', 'http://class.ruten.com.tw/category/sub00.php?c=00130027', 'http://class.ruten.com.tw/category/sub00.php?c=00130003', 'http://class.ruten.com.tw/category/sub00.php?c=00130009', 'http://class.ruten.com.tw/category/sub00.php?c=00130023', 'http://class.ruten.com.tw/category/sub00.php?c=00130024', 'http://class.ruten.com.tw/category/sub00.php?c=00130004', 'http://class.ruten.com.tw/category/sub00.php?c=00130025', 'http://class.ruten.com.tw/category/sub00.php?c=00130017', 'http://class.ruten.com.tw/category/sub00.php?c=00130019', 'http://class.ruten.com.tw/category/sub00.php?c=00130022', 'http://class.ruten.com.tw/category/sub00.php?c=00130028', 'http://class.ruten.com.tw/category/sub00.php?c=00130029', 'http://class.ruten.com.tw/category/sub00.php?c=00130012', 'http://class.ruten.com.tw/category/sub00.php?c=00130013', 'http://class.ruten.com.tw/category/sub00.php?c=00130014', 'http://class.ruten.com.tw/category/sub00.php?c=00130015', 'http://class.ruten.com.tw/category/sub00.php?c=00130016', 'http://class.ruten.com.tw/category/sub00.php?c=00130031', 'http://class.ruten.com.tw/category/sub00.php?c=00130018', 'http://class.ruten.com.tw/category/sub00.php?c=00130011', 'http://class.ruten.com.tw/category/sub00.php?c=00130020', 'http://class.ruten.com.tw/category/sub00.php?c=00060008', 'http://class.ruten.com.tw/category/sub00.php?c=00170005', 'http://class.ruten.com.tw/category/sub00.php?c=000800020004', 'http://class.ruten.com.tw/category/sub00.php?c=000900180001', 'http://class.ruten.com.tw/category/sub00.php?c=00040006', 'http://class.ruten.com.tw/category/sub00.php?c=00130032', 'http://class.ruten.com.tw/category/sub00.php?c=00130033', 'http://class.ruten.com.tw/category/sub00.php?c=00130034', 'http://class.ruten.com.tw/category/sub00.php?c=00070011', 'http://class.ruten.com.tw/category/sub00.php?c=00070010', 'http://class.ruten.com.tw/category/sub00.php?c=00070013', 'http://class.ruten.com.tw/category/sub00.php?c=00070012', 'http://class.ruten.com.tw/category/sub00.php?c=00070025', 'http://class.ruten.com.tw/category/sub00.php?c=00070018', 'http://class.ruten.com.tw/category/sub00.php?c=00070016', 'http://class.ruten.com.tw/category/sub00.php?c=00070027', 'http://class.ruten.com.tw/category/sub00.php?c=00070017', 'http://class.ruten.com.tw/category/sub00.php?c=00070008', 'http://class.ruten.com.tw/category/sub00.php?c=00070019', 'http://class.ruten.com.tw/category/sub00.php?c=00240022', 'http://class.ruten.com.tw/category/sub00.php?c=00070021', 'http://class.ruten.com.tw/category/sub00.php?c=00070023', 'http://class.ruten.com.tw/category/sub00.php?c=00070024', 'http://class.ruten.com.tw/category/sub00.php?c=00070009', 'http://class.ruten.com.tw/category/sub00.php?c=00070020', 'http://class.ruten.com.tw/category/sub00.php?c=00070022', 'http://class.ruten.com.tw/category/sub00.php?c=00070026']\n"
     ]
    }
   ],
   "source": [
    "import requests, time\n",
    "from bs4 import BeautifulSoup\n",
    "\n",
    "headers={\n",
    "'User-Agent':'Mozilla/5.0 (Windows NT 6.1; WOW64) AppleWebKit/537.36 (KHTML, like Gecko) Chrome/50.0.2661.102 Safari/537.36',\n",
    "}\n",
    "\n",
    "res = requests.get('http://www.ruten.com.tw/',headers=headers)\n",
    "soup = BeautifulSoup(res.text, \"lxml\")\n",
    "tlinklist=[]\n",
    "# ttp://class.ruten.com.tw/category/sub00.php?c=00110014&p=1\n",
    "for i in soup.select('.category-heading-content .sub-category-menu-item'): \n",
    "    tlink = i.select('.sub-category-link')[0]['href']\n",
    "\n",
    "    if 'main' in tlink:\n",
    "        tlink2=tlink.split('main?')[0]+'sub00.php?c='+tlink.split('main?')[1]\n",
    "        tlinklist.append(tlink2)\n",
    "    else:\n",
    "        tlinklist.append(tlink)\n",
    "print (tlinklist)\n",
    "\n"
   ]
  },
  {
   "cell_type": "markdown",
   "metadata": {},
   "source": [
    "# 睡覺時間(第二個run)"
   ]
  },
  {
   "cell_type": "code",
   "execution_count": 2,
   "metadata": {
    "collapsed": true
   },
   "outputs": [],
   "source": [
    "#隨機睡覺時間\n",
    "\n",
    "def sleeptime():\n",
    "    sleeptime=random.randint(3,7)\n",
    "#     print sleeptime\n",
    "    time.sleep(sleeptime) "
   ]
  },
  {
   "cell_type": "markdown",
   "metadata": {},
   "source": [
    "# getitempage主要抓取內容的方法(第三個run)"
   ]
  },
  {
   "cell_type": "code",
   "execution_count": 3,
   "metadata": {
    "collapsed": false
   },
   "outputs": [],
   "source": [
    "\n",
    "import re\n",
    "# url2='http://goods.ruten.com.tw/item/show?21311181087902'\n",
    "\n",
    "\n",
    "#headers2為抓取內文\n",
    "\n",
    "\n",
    "def getitempage(soup):\n",
    "#     http://class.ruten.com.tw/category/sub00.php?c=00110002'\n",
    "    ele_num=ele.split('sub00.php?c=')[1]\n",
    "    \n",
    "    with open('{}.txt'.format(ele_num), 'a') as f:\n",
    "\n",
    "        domainlink=\"http://goods.ruten.com.tw/item/show?\"\n",
    "        \n",
    "\n",
    "\n",
    "        for ent in soup.select('a.item-name-anchor'):\n",
    "            ##用link做出每個小商品的連結網址\n",
    "            link =  domainlink + ent['href'].split('?')[-1]\n",
    "            try:\n",
    "    #             print (link)\n",
    "\n",
    "                headers2={\n",
    "                        'User-Agent':'Mozilla/5.0 (Windows NT 6.1; WOW64) AppleWebKit/537.36 (KHTML, like Gecko) Chrome/50.0.2661.102 Safari/537.36',\n",
    "                        'Referer':link,\n",
    "                        'Cookie':'_ts_id=3400380F360030023706; __gads=ID=47fcfafb16c87a8d:T=1462785957:S=ALNI_MbVuZa1RfQwXn0QAJMNat53-QhXJw;crtg_rta=; __asc=567aaafa1550a0b6fe024862520; __auc=12e9ff4315494d47c39a3c517e1; _ga=GA1.3.1276111934.1462785834',\n",
    "                }\n",
    "\n",
    "                res1 = requests.get( link,headers=headers1)##\n",
    "                # print (res1.text.encode('latin-1').decode('utf-8'))\n",
    "                soup1 = BeautifulSoup(res1.text, \"lxml\")\n",
    "                # print (soup1)\n",
    "\n",
    "                ens=soup1.select('div.main-content')[0]\n",
    "                title = ens.select('h2.item-title')[0].text  #標題\n",
    "                # print title    \n",
    "\n",
    "\n",
    "                money=ens.select('.dollar')[0].text.replace(',','')  #爬取價錢\n",
    "                # print money\n",
    "\n",
    "\n",
    "                ###若缺貨標簽名稱會由.text-medium.number改成.text-medium.alert.text-important\n",
    "                if len(ens.select('.text-medium.alert.text-important')) > 0 : \n",
    "                    nnumber = ens.select('.text-medium.alert.text-important')[0].text   \n",
    "                    snumber = ens.select('.text-medium.number')[0].text                 \n",
    "                else:\n",
    "                    nnumber = ens.select('.text-medium.number')[0].text #尚餘數量\n",
    "                    snumber = ens.select('.text-medium.number')[1].text #已賣數量\n",
    "\n",
    "                ppic = ens.select('.item-thumbnail img')[0]['src']  ##圖片網址\n",
    "\n",
    "                #睡覺時間\n",
    "                sleeptime()\n",
    "\n",
    "                #爬取內文\n",
    "                context=ens.select('#user_generated_content iframe')[0]['src'] \n",
    "                res=requests.get(context,headers=headers2)\n",
    "                # # print type (res.text)\n",
    "                soup2 = BeautifulSoup(res.text.encode('latin1', 'ignore').decode('hkscs'), \"lxml\")\n",
    "    #              print (BeautifulSoup(res.text.encode('latin1', 'ignore').decode('big5'), \"lxml\"))\n",
    "                soup3=soup2.text.strip()\n",
    "                souptext =' '.join(soup3.split('\\n'))\n",
    "    #             print (souptext)\n",
    "                pattern = re.compile(r'(<!--).*(-->)').sub('',souptext).replace(',',' ')\n",
    "    #             print (pattern)\n",
    "    #             print (pattern.sub('',souptext))\n",
    "    #             print (type(pattern))\n",
    "\n",
    "                #爬取賣家資料  名稱 評價\n",
    "                seller_name= ens.select('.item-info-owner .seller-disc a')[0].text  #賣家名字\n",
    "                seller_logint= ens.select('.item-info-owner p')[0].text  #上次登入時間\n",
    "                seller_score= ens.select('.item-info-owner p .text-medium')[1].text  #賣家評價\n",
    "\n",
    "\n",
    "\n",
    "                #問答次數 \n",
    "                qa_count= ens.select('.rt-tab-pane .rt-tab-item')[1].text.split('(')[1].split(')')[0]\n",
    "\n",
    "\n",
    "                #睡覺時間\n",
    "                sleeptime()\n",
    "\n",
    "\n",
    "\n",
    "                # 出價紀錄\n",
    "                pricetmp=ens.select('.rt-tab-pane .rt-tab-item')[2]\n",
    "                price_count= pricetmp.text.split('(')[1].split(')')[0]\n",
    "                price_record=pricetmp.select('a')[0]['href']\n",
    "                # print price_record\n",
    "                price_url='http://goods.ruten.com.tw/item/{}'.format(price_record)\n",
    "                price_res=requests.get(price_url,headers=headers1)\n",
    "                price_soup=BeautifulSoup(price_res.text, \"lxml\")\n",
    "\n",
    "                last_price_time=''\n",
    "                if(len(price_soup.select('.offer-log tr'))>0):\n",
    "                    last_price_time= price_soup.select('.offer-log tr')[1].select('td')[2].text  #最後出價時間\n",
    "\n",
    "\n",
    "                else:\n",
    "                    #####把錯誤寫進文件\n",
    "                    pass\n",
    "\n",
    "\n",
    "                # print (snumber)\n",
    "    #             p = (str(title)+','+str(nnumber)+','+str(snumber)+','+ str(ppic)+','+ '\\n')\n",
    "                ###順序\n",
    "                ##1標題,2商品網址,3尚餘數量,4已賣數量,5價錢,6賣家名字,7上次登入時間,8賣家評價,9最後出價時間,10問答次數,11出價紀錄,12圖片網址,13內文\n",
    "                p = (title+u','+(link)+u','+(nnumber)+u','+(snumber)+u','+(money)+u','+(seller_name)+u','+(seller_logint)+u','+(seller_score)+u','+(last_price_time)+u','+(qa_count)+u','+(price_count)+u','+(ppic)+u','+(pattern)+u','+ '\\n')\n",
    "    #             p = (str(pattern.encode('latin-1').decode('utf-8')))\n",
    "    #             print (type(pattern))\n",
    "    #             print (type(p))\n",
    "\n",
    "                f.write(p.encode('utf8'))\n",
    "    #             print (p)\n",
    "            except:\n",
    "                text= str(link)+'\\n' +\" Unexpected error:\"+traceback.format_exc() +'\\n'\n",
    "    #             print text\n",
    "    #             print type(text)\n",
    "\n",
    "        #         e.write(traceback.format_exc())\n",
    "                e.write(text)\n",
    "                continue\n",
    "            \n",
    "\n",
    "                   \n",
    "\n",
    "                   \n",
    "                                "
   ]
  },
  {
   "cell_type": "markdown",
   "metadata": {},
   "source": [
    "# 主程式(第四個run)"
   ]
  },
  {
   "cell_type": "code",
   "execution_count": null,
   "metadata": {
    "collapsed": false,
    "scrolled": true
   },
   "outputs": [
    {
     "name": "stdout",
     "output_type": "stream",
     "text": [
      "http://class.ruten.com.tw/category/sub00.php?c=00110002&p=1\n"
     ]
    }
   ],
   "source": [
    "##隨便睡\n",
    "##if 沒有購買紀錄\n",
    "\n",
    "\n",
    "\n",
    "\n",
    "#下一頁被藏起來了\n",
    "\n",
    "\n",
    "\n",
    "import requests, time,sys,traceback\n",
    "from bs4 import BeautifulSoup\n",
    "import random  \n",
    "\n",
    "with open('error.log','a') as e:\n",
    "\n",
    "    #每類商品有特定網頁編號 EX:筆記型電腦 00110002  桌上型電腦 00110001\n",
    "\n",
    "    pages=1\n",
    "    # for ele in xrange(110002,110003):\n",
    "    ##@@改自己負責的數字0-100,101-200,201-300,301-400,401-\n",
    "    for ele in tlinklist[0:100]:\n",
    "\n",
    "        while(pages):\n",
    "            urlc =(ele +  '&p=' + str(pages))\n",
    "            print (urlc)\n",
    "    #         urlc ='http://class.ruten.com.tw/category/sub00.php?c=00{}&p={}'.format(ele,pages)\n",
    "\n",
    "\n",
    "            ###headers1 for第一層get選完價錢跟熱銷數量頁面\n",
    "            headers1={\n",
    "            'User-Agent':'Mozilla/5.0 (Windows NT 6.1; WOW64) AppleWebKit/537.36 (KHTML, like Gecko) Chrome/50.0.2661.102 Safari/537.36',\n",
    "            'Referer':'http://class.ruten.com.tw/category/sub00.php?c=00110002&p=1',\n",
    "            'Cookie':'_ts_id=3400380F360030023706; __gads=ID=47fcfafb16c87a8d:T=1462785957:S=ALNI_MbVuZa1RfQwXn0QAJMNat53-QhXJw; __asc=fdf5d1c91550ead08d17c9d98bc; __auc=12e9ff4315494d47c39a3c517e1; _ga=GA1.3.1276111934.1462785834; crtg_rta='\n",
    "\n",
    "            }\n",
    "\n",
    "\n",
    "\n",
    "\n",
    "    #         print urlc\n",
    "            res = requests.get(urlc ,headers=headers1)\n",
    "        #     print res\n",
    "            soup = BeautifulSoup(res.text, \"lxml\")\n",
    "\n",
    "            if(len(soup.select('a.item-name-anchor'))>0):\n",
    "\n",
    "\n",
    "                getitempage(soup)\n",
    "\n",
    "\n",
    "\n",
    "                #睡覺時間\n",
    "                sleeptime()\n",
    "\n",
    "                #換頁\n",
    "                pages=pages+1\n",
    "                print pages\n",
    "\n",
    "\n",
    "            else:\n",
    "                break\n",
    "\n",
    " \n",
    "        "
   ]
  },
  {
   "cell_type": "code",
   "execution_count": null,
   "metadata": {
    "collapsed": true
   },
   "outputs": [],
   "source": [
    "MITPC*Lenovo(IBM)ThinkPad X201i專業商務筆電 12\" I3 4G RAM可玩英雄聯盟,http://goods.ruten.com.tw/item/show?21526907202488,2,24,4900,wachtaipei,上次登入：2016-06-05,719,2016-06-0310:45:00,7,28,http://d.rimg.com.tw/s2/3/8b/b8/21526907202488_522_m.jpg,露天拍賣-台灣 NO.1 拍賣網站   Lenovo(IBM) ThinkPad X201專業商務筆電,X201繼承IBM堅固耐用的優良傳統,無論何種艱困環境皆能應付自如,搭配強勁的I3 CPU 文書/上網/遊戲/影片(1080p)都很適用! 螢幕:12.1\"(1280X800)高畫質螢幕 CPU:Intel I3 M330 雙核心模擬四核心效能 RAM:4G 硬碟:250G 內建Intel HD顯示晶片,可以跑得動LOL等線上遊戲 VGA輸出 註一:本機包含Windows 7 pro 作業系統 註二:保固三個月 註三:中古機功能正常,但一定會有使用痕跡,謝謝!,"
   ]
  },
  {
   "cell_type": "code",
   "execution_count": 56,
   "metadata": {
    "collapsed": false
   },
   "outputs": [
    {
     "name": "stdout",
     "output_type": "stream",
     "text": [
      "恒\n"
     ]
    }
   ],
   "source": [
    "print(b'\\xf9\\xda'.decode('big5'))"
   ]
  },
  {
   "cell_type": "code",
   "execution_count": 10,
   "metadata": {
    "collapsed": false
   },
   "outputs": [
    {
     "name": "stdout",
     "output_type": "stream",
     "text": [
      "http://class.ruten.com.tw/category/sub00.php?c=00110002&p=1\n",
      "http://goods.ruten.com.tw/item/show?21534405681616\n",
      "MITPC*華碩ASUS K40IN 14.1\"大螢幕 雙核心獨顯筆電 商務遊戲皆適用\n",
      "http://class.ruten.com.tw/category/sub00.php?c=00110002&p=2\n",
      "http://goods.ruten.com.tw/item/show?21552454872959\n",
      "Lenovo ThinkPad T440s i5 4G 128GB SSD  1600x900 全新未拆封\n"
     ]
    }
   ],
   "source": [
    "import requests, time\n",
    "from bs4 import BeautifulSoup\n",
    "headers1={\n",
    "\n",
    "\n",
    "'Connection':'keep-alive',\n",
    "'User-Agent':'Mozilla/5.0 (Windows NT 6.1; WOW64) AppleWebKit/537.36 (KHTML, like Gecko) Chrome/50.0.2661.102 Safari/537.36',\n",
    "\n",
    "# 'Host':'class.ruten.com.tw',\n",
    "'Cookie':'_ts_id=34013100300434073700; __gads=ID=140b99e0df4e590c:T=1464865339:S=ALNI_Ma9Mn1pxdEPzjEod0vC9h7Kgk-WvA; crtg_rta=; __asc=6223a63115521701756c0308347; __auc=ebb5bbed15507429e44c27b227b; _ga=GA1.3.865316789.1464705654'\n",
    "}\n",
    "\n",
    "\n",
    "\n",
    "\n",
    "rs=requests.session() \n",
    "for i in xrange(1,3):    \n",
    "    url='http://class.ruten.com.tw/category/sub00.php?c=00110002&p={}'.format(i)\n",
    "    print url\n",
    "    res = rs.get(url ,headers=headers1)\n",
    "    \n",
    "    soup = BeautifulSoup(res.text, \"lxml\")\n",
    "\n",
    "    # print soup\n",
    "\n",
    "    domainlink=\"http://goods.ruten.com.tw/item/show?\"\n",
    "\n",
    "    ent=soup.select('a.item-name-anchor')[1]\n",
    "\n",
    "    link =  domainlink + ent['href'].split('?')[-1]\n",
    "\n",
    "    print (link)\n",
    "\n",
    "    headers2={\n",
    "        'User-Agent':'Mozilla/5.0 (Windows NT 6.1; WOW64) AppleWebKit/537.36 (KHTML, like Gecko) Chrome/50.0.2661.102 Safari/537.36',\n",
    "        'Referer':link,\n",
    "        'Cookie':'_ts_id=3400380F360030023706; __gads=ID=47fcfafb16c87a8d:T=1462785957:S=ALNI_MbVuZa1RfQwXn0QAJMNat53-QhXJw;crtg_rta=; __asc=567aaafa1550a0b6fe024862520; __auc=12e9ff4315494d47c39a3c517e1; _ga=GA1.3.1276111934.1462785834',\n",
    "    }\n",
    "\n",
    "    res1 = requests.get( link,headers=headers1)##\n",
    "                # print (res1.text.encode('latin-1').decode('utf-8'))\n",
    "    soup1 = BeautifulSoup(res1.text, \"lxml\")\n",
    "                # print (soup1)\n",
    "\n",
    "    ens=soup1.select('div.main-content')[0]\n",
    "    title = ens.select('h2.item-title')[0].text  #標題\n",
    "    print title    \n",
    "\n"
   ]
  },
  {
   "cell_type": "code",
   "execution_count": 15,
   "metadata": {
    "collapsed": false
   },
   "outputs": [
    {
     "ename": "IndentationError",
     "evalue": "unexpected indent (<ipython-input-15-fd61d76f1166>, line 2)",
     "output_type": "error",
     "traceback": [
      "\u001b[1;36m  File \u001b[1;32m\"<ipython-input-15-fd61d76f1166>\"\u001b[1;36m, line \u001b[1;32m2\u001b[0m\n\u001b[1;33m    http://class.ruten.com.tw/category/main?00110002&p=2\u001b[0m\n\u001b[1;37m    ^\u001b[0m\n\u001b[1;31mIndentationError\u001b[0m\u001b[1;31m:\u001b[0m unexpected indent\n"
     ]
    }
   ],
   "source": [
    "\n",
    "       http://class.ruten.com.tw/category/main?00110002&p=2\n",
    "        "
   ]
  },
  {
   "cell_type": "code",
   "execution_count": null,
   "metadata": {
    "collapsed": true
   },
   "outputs": [],
   "source": []
  }
 ],
 "metadata": {
  "kernelspec": {
   "display_name": "Python 2",
   "language": "python",
   "name": "python2"
  },
  "language_info": {
   "codemirror_mode": {
    "name": "ipython",
    "version": 2
   },
   "file_extension": ".py",
   "mimetype": "text/x-python",
   "name": "python",
   "nbconvert_exporter": "python",
   "pygments_lexer": "ipython2",
   "version": "2.7.11"
  }
 },
 "nbformat": 4,
 "nbformat_minor": 0
}
