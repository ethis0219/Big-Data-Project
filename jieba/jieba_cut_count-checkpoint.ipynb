{
 "cells": [
  {
   "cell_type": "markdown",
   "metadata": {},
   "source": [
    "##### 下載dict.txt.big 並放入C:\\Users\\user\\Anaconda2\\Lib\\site-packages\\jieba\n",
    "#### 參考網站  http://blog.fukuball.com/ru-he-shi-yong-jieba-jie-ba-zhong-wen-fen-ci-cheng-shi/"
   ]
  },
  {
   "cell_type": "code",
   "execution_count": 38,
   "metadata": {
    "collapsed": false
   },
   "outputs": [
    {
     "name": "stderr",
     "output_type": "stream",
     "text": [
      "Building prefix dict from C:\\Users\\user\\Anaconda2\\Lib\\site-packages\\jieba\\dict.txt ...\n",
      "Loading model from cache c:\\users\\user\\appdata\\local\\temp\\jieba.u2fb2e2f181c6057ac855b78098be6b23.cache\n"
     ]
    },
    {
     "name": "stdout",
     "output_type": "stream",
     "text": [
      " <type 'str'>\n",
      "﻿ /"
     ]
    },
    {
     "name": "stderr",
     "output_type": "stream",
     "text": [
      "Loading model cost 0.590 seconds.\n",
      "Prefix dict has been built succesfully.\n"
     ]
    },
    {
     "name": "stdout",
     "output_type": "stream",
     "text": [
      " 限時 / 再 / 降 / 一千 / 【 / 18899 / 元 / 】 / ASUS / 華碩 / X455LF / 高階 / I5 / + / 2G / 獨顯 / 14 / 吋 / 筆電 / 含系統 / 3D / 遊戲順 / 可 / 刷卡 / 分期 / 送數 / 十套 / 軟體 / \n",
      "/ 洋宏資訊 / ～ / \n",
      "/ \n",
      "/ 專案 / 只有 / 一波 /   / ASUS /   / X455LF / 筆記型 / 電腦 / \n",
      "/ 含 / 最新 /   / WINDOWS /   / 10 /   / 系統 / ( / 也 / 有 / win8 / 版本 / . / 有 / 需要 / 可 / 註 / 明 / ) / \n",
      "/ \n",
      "/ 紅 /   / / /   / 白 /   / / /   / 黑灰 /   / 三色 / 現貨 / \n",
      "/ \n",
      "/ 此次 / 洋宏資訊 / 為 / 大家 / 爭取 / 到 / 　/ 華碩 / 14 / 吋 / 高階 / I5 / + / 2GB / 獨顯筆 / 記型 / 電腦 / 機種 / ~ / \n",
      "/ \n",
      "/ 除了 / 讓 / 大家 / 買到 / 市場 / 最低 / 價 / 以外 / ～ / 更是 / 要求 / 高品質 / ! / ! / ! / \n",
      "/ \n",
      "/ 首先 / 值得一提的是 / \n",
      "/ \n",
      "/ 本機 / 的 / Ｃ / Ｐ / Ｕ / 是 / 採用 / 筆電 / 最新 / INTEL /   / I5 / - / 5200 /   / 處 / 理器 / 在 / 效能 / 表現 / 上絕 / 對 / 是 / 優秀 / 的 / 啦 / ! / \n",
      "/ \n",
      "/ 搭配 / 高規 /   / ４ / G /   / RAM /   / + /   / 1TB / 大容量 / 硬碟 / + /   / DVD /   / 光碟 / 燒錄機 / \n",
      "/ \n",
      "/ Ultrabook / 等級 / 的 / 設計 / 除了 / 重量 / 硬是 / 比標準 / 14 / 吋 / 機種 / 輕 / 了 / 700 / 公克 / 外 / \n",
      "/ \n",
      "/ 加上 / 含 / DVD / 燒錄機 / 居然 / 才 / 2.2 / Kg / \n",
      "/ \n",
      "/ 兼顧質 / 感 / 以及 / 散熱 / 能力 / 更是 / 一流 / ~ / GT930M /   / 2GB / 獨立 / 顯卡 / 3D / 遊戲 / 繪圖 / 順暢 / 無 / 比 / \n",
      "/ \n",
      "/ 儲存 / 空間 / 方面 / ~ / 1000G / 大容量 / 硬碟 / 設計 / . / 資料 / 儲存 / 及 / 效能 / 上 / 最佳化 / ~ / \n",
      "/ \n",
      "/ 音效 / 方面 / SonicMaster /   / 技術則 / 呈現 / 絕佳聲 / 音品 / 質 / 。 / \n",
      "/ \n",
      "/ 「 / 這麼 / 高規格 / 只開 / 這價格 / ？ / 老 / 闆 / 沒 / 搞 / 錯 / 吧 / ？ / 」 / \n",
      "/ \n",
      "/ 當 / 大家 / 還再 / 賣 / 22900 / 元 / 的 / 同時 / ~ / 洋宏絕 / 對 / 是 / 市場 / 上 / 的 / 同款 / 最低 / 價了 / \n",
      "/ \n",
      "/ 限量 / 現貨 /   / 只賣 / 19999 /   / 元 / ! / ! / ! / \n",
      "/ \n",
      "/ 六月 / 限時 / 再 / 狂降 / 一千 /   / 只要 /   / 18899 / 元 / 啦 / ! / ! / ! / ( / 以頁 / 面活動 / 為 / 主 / , / 售完 / 調回 / 原價 / ) / \n",
      "/ \n",
      "/ 但是 / 但是 / ~ / 　/ 很 / 遺憾 / 的 / . / 四大 / 賣場 / 同步 / 開賣 / 數量 / 卻 / 只 / 剩 / 最 / 後 / 10 / 台 / ~ / 售完 / 肯定 / 不再 / 有 / ! / \n",
      "/ \n",
      "/ 只能 / 說 / ~ / 有 / 需要 / 朋友 / . / 要 / 買 / 一定 / 要 / 快 / 啦 / ! / ! / ! / \n",
      "/ \n",
      "/ 還有 / 還有 / ! / ! / ! / \n",
      "/ \n",
      "/ 來洋宏買 / 電腦 / ~ / 獨家 / 再 / 送十數 / 套 / 超值 / 軟體 / 光碟 / ( / 附表 / １ / 說明 / ) / , / 內含 / 文書 / 、 / 防毒 / 、 / 影片 / 播放 / 、 / \n",
      "/ 娛樂 / 休閒 / 等 / 超值 / 軟體 / ， / 讓 / 您 / 安裝 / 完成 / 後 / 就 / 可以 / 順暢 / 使用 / 哦 / ~ / 不須 / 再 / 另外 / 買 / 應用 / 軟體 / 哦 / . /   / ^ / ^ / \n",
      "/ \n",
      "/ \n",
      "/ Intel /   / Core /   / i / 機種 / 第五代 / , / 新機 / 上市 / ! /   / - /   / X455LF / 系列 / \n",
      "/ \n",
      "/ - /   / 14 / 吋 /   / 鏡面 / 寬 / 螢幕 / \n",
      "/ - /   / 領先業界 / 導入 / 2G / 獨顯 / ， / 搭配 /   / NV /   / GT /   / 930M /   / 2GB / 獨立 / 顯示 / 晶片 / \n",
      "/ - /   / 搭配 / 1TB / 大容量 / HD / ， / 資料 / 儲存 / 無顧慮 / \n",
      "/ - /   / 內建 / 30 / 萬畫素 / 網路 / 攝影機 / ， / 傳輸溝 / 通無距 / 離 / ； / 傳輸 / 應用 / 更 / 方便 / \n",
      "/ - /   / 內建無線 / 網路 / 802.11 / n / \n",
      "/ - /   / 華碩 / 獨家 / SHE /   / II / 省電技術 / , /   / 2 / 秒 / 快速 / 回到 / 作業 / 系統 / \n",
      "/ - /   / 華碩 / 獨家 / Dr / . /   / Battery /   / Tech /   / 讓 / 電池 / 壽命 / 更長 / ! / \n",
      "/ - /   / 無縫式 / 鍵盤 / 設計 / , / 機身 / 質感 / 再 / 提 / 昇 / ! / \n",
      "/ - /   / 2.2 / KGW /   / AC / 件 / 金屬 / 材質 /\n"
     ]
    }
   ],
   "source": [
    "import jieba\n",
    "jieba.set_dictionary('C:\\Users\\user\\Anaconda2\\Lib\\site-packages\\jieba\\dict.txt')\n",
    "\n",
    "with open('practice_article.txt', 'r') as f:\n",
    "    content=f.read()\n",
    "#     print content\n",
    "print type(content)\n",
    "\n",
    "\n",
    "words = jieba.cut(content, cut_all=False)\n",
    "\n",
    "for word in words:\n",
    "    print word, '/',"
   ]
  },
  {
   "cell_type": "code",
   "execution_count": 43,
   "metadata": {
    "collapsed": false
   },
   "outputs": [
    {
     "name": "stderr",
     "output_type": "stream",
     "text": [
      "Building prefix dict from C:\\Users\\user\\Anaconda2\\Lib\\site-packages\\jieba\\dict.txt.big ...\n",
      "Loading model from cache c:\\users\\user\\appdata\\local\\temp\\jieba.u7ac47830bc1277ed8e8a1b3292443b17.cache\n",
      "Loading model cost 1.003 seconds.\n",
      "Prefix dict has been built succesfully.\n"
     ]
    },
    {
     "name": "stdout",
     "output_type": "stream",
     "text": [
      "﻿ / 限時 / 再 / 降 / 一千 / 【 / 18899 / 元 / 】 / ASUS / 華碩 / X455LF / 高階 / I5 / + / 2G / 獨顯 / 14 / 吋 / 筆電含 / 系統 / 3D / 遊戲 / 順可 / 刷卡 / 分期 / 送 / 數十套 / 軟體 / \n",
      "/ 洋宏 / 資訊 / ～ / \n",
      "/ \n",
      "/ 專案 / 只有 / 一波 /   / ASUS /   / X455LF / 筆記型電腦 / \n",
      "/ 含 / 最新 /   / WINDOWS /   / 10 /   / 系統 / ( / 也 / 有 / win8 / 版本 / . / 有 / 需要 / 可 / 註明 / ) / \n",
      "/ \n",
      "/ 紅 /   / / /   / 白 /   / / /   / 黑灰 /   / 三 / 色 / 現貨 / \n",
      "/ \n",
      "/ 此次 / 洋宏 / 資訊 / 為 / 大家 / 爭取 / 到 / 　/ 華碩 / 14 / 吋 / 高階 / I5 / + / 2GB / 獨顯 / 筆記型電腦 / 機種 / ~ / \n",
      "/ \n",
      "/ 除了 / 讓 / 大家 / 買 / 到 / 市場 / 最低價 / 以外 / ～ / 更是 / 要求 / 高品質 / ! / ! / ! / \n",
      "/ \n",
      "/ 首先 / 值得一提的是 / \n",
      "/ \n",
      "/ 本機 / 的 / Ｃ / Ｐ / Ｕ / 是 / 採用 / 筆電 / 最新 / INTEL /   / I5 / - / 5200 /   / 處理器 / 在 / 效能 / 表現 / 上 / 絕對 / 是 / 優秀 / 的 / 啦 / ! / \n",
      "/ \n",
      "/ 搭配 / 高規 /   / ４ / G /   / RAM /   / + /   / 1TB / 大容量 / 硬碟 / + /   / DVD /   / 光碟 / 燒錄機 / \n",
      "/ \n",
      "/ Ultrabook / 等級 / 的 / 設計 / 除了 / 重量 / 硬是 / 比 / 標準 / 14 / 吋 / 機種 / 輕 / 了 / 700 / 公克 / 外 / \n",
      "/ \n",
      "/ 加上 / 含 / DVD / 燒錄機 / 居然 / 才 / 2.2 / Kg / \n",
      "/ \n",
      "/ 兼顧 / 質感 / 以及 / 散熱 / 能力 / 更是 / 一流 / ~ / GT930M /   / 2GB / 獨立 / 顯卡 / 3D / 遊戲 / 繪圖 / 順暢 / 無比 / \n",
      "/ \n",
      "/ 儲存 / 空間 / 方面 / ~ / 1000G / 大容量 / 硬碟 / 設計 / . / 資料 / 儲存 / 及 / 效能 / 上 / 最佳化 / ~ / \n",
      "/ \n",
      "/ 音效 / 方面 / SonicMaster /   / 技術 / 則 / 呈現 / 絕佳 / 聲音 / 品質 / 。 / \n",
      "/ \n",
      "/ 「 / 這麼 / 高 / 規格 / 只開 / 這 / 價格 / ？ / 老闆 / 沒 / 搞錯 / 吧 / ？ / 」 / \n",
      "/ \n",
      "/ 當 / 大家 / 還再 / 賣 / 22900 / 元 / 的 / 同時 / ~ / 洋宏 / 絕對 / 是 / 市場 / 上 / 的 / 同款 / 最低價 / 了 / \n",
      "/ \n",
      "/ 限量 / 現貨 /   / 只賣 / 19999 /   / 元 / ! / ! / ! / \n",
      "/ \n",
      "/ 六月 / 限時 / 再 / 狂降 / 一千 /   / 只要 /   / 18899 / 元 / 啦 / ! / ! / ! / ( / 以 / 頁面 / 活動 / 為主 / , / 售完 / 調回 / 原價 / ) / \n",
      "/ \n",
      "/ 但是 / 但是 / ~ / 　/ 很 / 遺憾 / 的 / . / 四大 / 賣場 / 同步 / 開賣 / 數量 / 卻 / 只 / 剩 / 最後 / 10 / 台 / ~ / 售完 / 肯定 / 不再 / 有 / ! / \n",
      "/ \n",
      "/ 只能 / 說 / ~ / 有 / 需要 / 朋友 / . / 要 / 買 / 一定 / 要 / 快 / 啦 / ! / ! / ! / \n",
      "/ \n",
      "/ 還有 / 還有 / ! / ! / ! / \n",
      "/ \n",
      "/ 來洋宏買 / 電腦 / ~ / 獨家 / 再 / 送 / 十數 / 套 / 超值 / 軟體 / 光碟 / ( / 附表 / １ / 說明 / ) / , / 內含 / 文書 / 、 / 防毒 / 、 / 影片 / 播放 / 、 / \n",
      "/ 娛樂 / 休閒 / 等 / 超值 / 軟體 / ， / 讓 / 您 / 安裝 / 完成 / 後 / 就 / 可以 / 順暢 / 使用 / 哦 / ~ / 不須 / 再 / 另外 / 買 / 應用軟體 / 哦 / . /   / ^ / ^ / \n",
      "/ \n",
      "/ \n",
      "/ Intel /   / Core /   / i / 機種 / 第五代 / , / 新機 / 上市 / ! /   / - /   / X455LF / 系列 / \n",
      "/ \n",
      "/ - /   / 14 / 吋 /   / 鏡面 / 寬 / 螢幕 / \n",
      "/ - /   / 領先 / 業界 / 導入 / 2G / 獨顯 / ， / 搭配 /   / NV /   / GT /   / 930M /   / 2GB / 獨立 / 顯示 / 晶片 / \n",
      "/ - /   / 搭配 / 1TB / 大容量 / HD / ， / 資料 / 儲存 / 無 / 顧慮 / \n",
      "/ - /   / 內建 / 30 / 萬畫素 / 網路 / 攝影機 / ， / 傳輸 / 溝通 / 無 / 距離 / ； / 傳輸 / 應用 / 更 / 方便 / \n",
      "/ - /   / 內 / 建 / 無線網 / 路 / 802.11 / n / \n",
      "/ - /   / 華碩 / 獨家 / SHE /   / II / 省電 / 技術 / , /   / 2 / 秒 / 快速 / 回到 / 作業系統 / \n",
      "/ - /   / 華碩 / 獨家 / Dr / . /   / Battery /   / Tech /   / 讓 / 電池 / 壽命 / 更長 / ! / \n",
      "/ - /   / 無縫 / 式 / 鍵盤 / 設計 / , / 機身 / 質感 / 再 / 提 / 昇 / ! / \n",
      "/ - /   / 2.2 / KGW /   / AC / 件 / 金屬 / 材質 /\n"
     ]
    }
   ],
   "source": [
    "import jieba\n",
    "jieba.set_dictionary('C:\\Users\\user\\Anaconda2\\Lib\\site-packages\\jieba\\dict.txt.big')\n",
    "content=''\n",
    "with open('practice_article.txt', 'r') as f:\n",
    "    for ele in f.readlines():\n",
    "        content=content+ele\n",
    "        \n",
    "# print type(content)\n",
    "\n",
    "words = list(jieba.cut(content, cut_all=False))\n",
    "\n",
    "for word in words:\n",
    "    print word, '/',\n",
    "#     print (word2)\n",
    "\n",
    "\n",
    "\n"
   ]
  },
  {
   "cell_type": "code",
   "execution_count": 47,
   "metadata": {
    "collapsed": false
   },
   "outputs": [
    {
     "name": "stderr",
     "output_type": "stream",
     "text": [
      "Building prefix dict from C:\\Users\\user\\Anaconda2\\Lib\\site-packages\\jieba\\dict.txt.big ...\n",
      "Loading model from cache c:\\users\\user\\appdata\\local\\temp\\jieba.u7ac47830bc1277ed8e8a1b3292443b17.cache\n",
      "Loading model cost 0.941 seconds.\n",
      "Prefix dict has been built succesfully.\n"
     ]
    },
    {
     "name": "stdout",
     "output_type": "stream",
     "text": [
      "﻿ / 限時 / 再 / 降 / 一千 / 【 / 18899元 / 】 / ASUS / 華碩 / X455LF / 高階 / I5 / + / 2G / 獨顯 / 14 / 吋 / 筆電含 / 系統 / 3D / 遊戲 / 順可 / 刷卡 / 分期 / 送 / 數十套 / 軟體 / \n",
      "/ 洋宏 / 資訊 / ～ / \n",
      "/ \n",
      "/ 專案 / 只有 / 一波 /   / ASUS /   / X455LF / 筆記型電腦 / \n",
      "/ 含 / 最新 /   / WINDOWS /   / 10 /   / 系統 / ( / 也 / 有 / win8 / 版本 / . / 有 / 需要 / 可 / 註明 / ) / \n",
      "/ \n",
      "/ 紅 /   / / /   / 白 /   / / /   / 黑灰 /   / 三 / 色 / 現貨 / \n",
      "/ \n",
      "/ 此次 / 洋宏 / 資訊 / 為 / 大家 / 爭取 / 到 / 　/ 華碩 / 14 / 吋 / 高階 / I5 / + / 2GB / 獨顯 / 筆記型電腦 / 機種 / ~ / \n",
      "/ \n",
      "/ 除了 / 讓 / 大家 / 買 / 到 / 市場 / 最低價 / 以外 / ～ / 更是 / 要求 / 高品質 / ! / ! / ! / \n",
      "/ \n",
      "/ 首先 / 值得一提的是 / \n",
      "/ \n",
      "/ 本機 / 的 / Ｃ / Ｐ / Ｕ / 是 / 採用 / 筆電 / 最新 / INTEL /   / I5 / - / 5200 /   / 處理器 / 在 / 效能 / 表現 / 上 / 絕對 / 是 / 優秀 / 的 / 啦 / ! / \n",
      "/ \n",
      "/ 搭配 / 高規 /   / ４ / G /   / RAM /   / + /   / 1TB / 大容量 / 硬碟 / + /   / DVD /   / 光碟 / 燒錄機 / \n",
      "/ \n",
      "/ Ultrabook / 等級 / 的 / 設計 / 除了 / 重量 / 硬是 / 比 / 標準 / 14 / 吋 / 機種 / 輕 / 了 / 700 / 公克 / 外 / \n",
      "/ \n",
      "/ 加上 / 含 / DVD / 燒錄機 / 居然 / 才 / 2.2 / Kg / \n",
      "/ \n",
      "/ 兼顧 / 質感 / 以及 / 散熱 / 能力 / 更是 / 一流 / ~ / GT930M /   / 2GB / 獨立 / 顯卡 / 3D / 遊戲 / 繪圖 / 順暢 / 無比 / \n",
      "/ \n",
      "/ 儲存 / 空間 / 方面 / ~ / 1000G / 大容量 / 硬碟 / 設計 / . / 資料 / 儲存 / 及 / 效能 / 上 / 最佳化 / ~ / \n",
      "/ \n",
      "/ 音效 / 方面 / SonicMaster /   / 技術 / 則 / 呈現 / 絕佳 / 聲音 / 品質 / 。 / \n",
      "/ \n",
      "/ 「 / 這麼 / 高 / 規格 / 只開 / 這 / 價格 / ？ / 老闆 / 沒 / 搞錯 / 吧 / ？ / 」 / \n",
      "/ \n",
      "/ 當 / 大家 / 還再 / 賣 / 22900 / 元 / 的 / 同時 / ~ / 洋宏 / 絕對 / 是 / 市場 / 上 / 的 / 同款 / 最低價 / 了 / \n",
      "/ \n",
      "/ 限量 / 現貨 /   / 只賣 / 19999 /   / 元 / ! / ! / ! / \n",
      "/ \n",
      "/ 六月 / 限時 / 再 / 狂降 / 一千 /   / 只要 /   / 18899元 / 啦 / ! / ! / ! / ( / 以 / 頁面 / 活動 / 為主 / , / 售完 / 調回 / 原價 / ) / \n",
      "/ \n",
      "/ 但是 / 但是 / ~ / 　/ 很 / 遺憾 / 的 / . / 四大 / 賣場 / 同步 / 開賣 / 數量 / 卻 / 只 / 剩 / 最後 / 10 / 台 / ~ / 售完 / 肯定 / 不再 / 有 / ! / \n",
      "/ \n",
      "/ 只能 / 說 / ~ / 有 / 需要 / 朋友 / . / 要 / 買 / 一定 / 要 / 快 / 啦 / ! / ! / ! / \n",
      "/ \n",
      "/ 還有 / 還有 / ! / ! / ! / \n",
      "/ \n",
      "/ 來洋宏買 / 電腦 / ~ / 獨家 / 再 / 送 / 十數 / 套 / 超值 / 軟體 / 光碟 / ( / 附表 / １ / 說明 / ) / , / 內含 / 文書 / 、 / 防毒 / 、 / 影片 / 播放 / 、 / \n",
      "/ 娛樂 / 休閒 / 等 / 超值 / 軟體 / ， / 讓 / 您 / 安裝 / 完成 / 後 / 就 / 可以 / 順暢 / 使用 / 哦 / ~ / 不須 / 再 / 另外 / 買 / 應用軟體 / 哦 / . /   / ^ / ^ / \n",
      "/ \n",
      "/ \n",
      "/ Intel /   / Core /   / i / 機種 / 第五代 / , / 新機 / 上市 / ! /   / - /   / X455LF / 系列 / \n",
      "/ \n",
      "/ - /   / 14 / 吋 /   / 鏡面 / 寬 / 螢幕 / \n",
      "/ - /   / 領先 / 業界 / 導入 / 2G / 獨顯 / ， / 搭配 /   / NV /   / GT /   / 930M /   / 2GB / 獨立 / 顯示 / 晶片 / \n",
      "/ - /   / 搭配 / 1TB / 大容量 / HD / ， / 資料 / 儲存 / 無 / 顧慮 / \n",
      "/ - /   / 內建 / 30 / 萬畫素 / 網路 / 攝影機 / ， / 傳輸 / 溝通 / 無 / 距離 / ； / 傳輸 / 應用 / 更 / 方便 / \n",
      "/ - /   / 內 / 建 / 無線網 / 路 / 802.11 / n / \n",
      "/ - /   / 華碩 / 獨家 / SHE /   / II / 省電 / 技術 / , /   / 2 / 秒 / 快速 / 回到 / 作業系統 / \n",
      "/ - /   / 華碩 / 獨家 / Dr / . /   / Battery /   / Tech /   / 讓 / 電池 / 壽命 / 更長 / ! / \n",
      "/ - /   / 無縫 / 式 / 鍵盤 / 設計 / , / 機身 / 質感 / 再 / 提 / 昇 / ! / \n",
      "/ - /   / 2.2 / KGW /   / AC / 件 / 金屬 / 材質 /\n"
     ]
    }
   ],
   "source": [
    "import jieba\n",
    "jieba.set_dictionary('C:\\Users\\user\\Anaconda2\\Lib\\site-packages\\jieba\\dict.txt.big')\n",
    "jieba.load_userdict(\"C:\\Users\\user\\Anaconda2\\Lib\\site-packages\\jieba\\userdict.txt\")\n",
    "content=''\n",
    "with open('practice_article.txt', 'r') as f:\n",
    "    for ele in f.readlines():\n",
    "        content=content+ele\n",
    "        \n",
    "# print type(content)\n",
    "\n",
    "words = list(jieba.cut(content, cut_all=False))\n",
    "\n",
    "for word in words:\n",
    "    print word, '/',\n",
    "#     print (word2)"
   ]
  },
  {
   "cell_type": "code",
   "execution_count": 29,
   "metadata": {
    "collapsed": false,
    "scrolled": true
   },
   "outputs": [
    {
     "ename": "AttributeError",
     "evalue": "'int' object has no attribute 'encode'",
     "output_type": "error",
     "traceback": [
      "\u001b[1;31m---------------------------------------------------------------------------\u001b[0m",
      "\u001b[1;31mAttributeError\u001b[0m                            Traceback (most recent call last)",
      "\u001b[1;32m<ipython-input-29-430d475ce884>\u001b[0m in \u001b[0;36m<module>\u001b[1;34m()\u001b[0m\n\u001b[1;32m----> 1\u001b[1;33m \u001b[1;32mprint\u001b[0m \u001b[1;36m0xc5\u001b[0m\u001b[1;33m.\u001b[0m\u001b[0mencode\u001b[0m\u001b[1;33m(\u001b[0m\u001b[1;34m'utf-8'\u001b[0m\u001b[1;33m)\u001b[0m\u001b[1;33m\u001b[0m\u001b[0m\n\u001b[0m",
      "\u001b[1;31mAttributeError\u001b[0m: 'int' object has no attribute 'encode'"
     ]
    }
   ],
   "source": [
    "#斷詞詞性(example 勿試)\n",
    "import jieba.posseg as pseg\n",
    "words = pseg.cut(content)\n",
    "print word.word, word.flag\n",
    "\n",
    "\n",
    "#斷詞位置\n",
    "words = jieba.tokenize(unicode(content, 'utf-8'))\n",
    "for tk in words:\n",
    "    print \"word %s\\t\\t start: %d \\t\\t end:%d\" % (tk[0],tk[1],tk[2])"
   ]
  },
  {
   "cell_type": "code",
   "execution_count": 53,
   "metadata": {
    "collapsed": false
   },
   "outputs": [
    {
     "name": "stderr",
     "output_type": "stream",
     "text": [
      "Building prefix dict from C:\\Users\\user\\Anaconda2\\Lib\\site-packages\\jieba\\dict.txt.big ...\n",
      "Loading model from cache c:\\users\\user\\appdata\\local\\temp\\jieba.u7ac47830bc1277ed8e8a1b3292443b17.cache\n",
      "Loading model cost 0.930 seconds.\n",
      "Prefix dict has been built succesfully.\n"
     ]
    },
    {
     "name": "stdout",
     "output_type": "stream",
     "text": [
      "\n",
      ",56\n",
      "\n",
      " ,49\n",
      "\n",
      "!,20\n",
      "\n",
      "-,11\n",
      "\n",
      "~,10\n",
      "\n",
      "的,6\n",
      "\n",
      ".,6\n",
      "\n",
      "再,5\n",
      "\n",
      ",,5\n",
      "\n",
      "有,4\n",
      "\n"
     ]
    }
   ],
   "source": [
    "import jieba\n",
    "import operator\n",
    "jieba.set_dictionary('C:\\Users\\user\\Anaconda2\\Lib\\site-packages\\jieba\\dict.txt.big')\n",
    "jieba.load_userdict(\"C:\\Users\\user\\Anaconda2\\Lib\\site-packages\\jieba\\userdict.txt\")\n",
    "content=''\n",
    "with open('practice_article.txt', 'r') as f:\n",
    "    for ele in f.readlines():\n",
    "        content=content+ele\n",
    "\n",
    "not_in_dic_ingre = {}\n",
    "words = list(jieba.cut(content, cut_all=False))\n",
    "for word in words:\n",
    "        if word in not_in_dic_ingre:\n",
    "            not_in_dic_ingre[word] = not_in_dic_ingre[word] + 1\n",
    "        else:\n",
    "            not_in_dic_ingre[word] = 1\n",
    "            \n",
    "sorted_x = sorted(not_in_dic_ingre.items(), key=operator.itemgetter(1), reverse=True)\n",
    "\n",
    "for item in sorted_x[0:10]:\n",
    "    print item[0]+','+str(item[1])+'\\n'\n"
   ]
  }
 ],
 "metadata": {
  "kernelspec": {
   "display_name": "Python 2",
   "language": "python",
   "name": "python2"
  },
  "language_info": {
   "codemirror_mode": {
    "name": "ipython",
    "version": 2
   },
   "file_extension": ".py",
   "mimetype": "text/x-python",
   "name": "python",
   "nbconvert_exporter": "python",
   "pygments_lexer": "ipython2",
   "version": "2.7.11"
  }
 },
 "nbformat": 4,
 "nbformat_minor": 0
}
