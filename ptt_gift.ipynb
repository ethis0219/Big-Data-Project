{
 "cells": [
  {
   "cell_type": "markdown",
   "metadata": {},
   "source": [
    "## step1 算頁數"
   ]
  },
  {
   "cell_type": "code",
   "execution_count": 2,
   "metadata": {
    "collapsed": false
   },
   "outputs": [
    {
     "name": "stdout",
     "output_type": "stream",
     "text": [
      "4245\n"
     ]
    }
   ],
   "source": [
    "import requests, re, time\n",
    "from bs4 import BeautifulSoup\n",
    "\n",
    "res = requests.get('https://www.ptt.cc/bbs/movie/index.html')\n",
    "soup = BeautifulSoup(res.text)\n",
    "\n",
    "for page in soup.select('.action-bar'):\n",
    "    pages = page.select('a')[3]['href']\n",
    "#     print pages\n",
    "    m = re.search('\\d{1,}', pages)\n",
    "    totalpages = m.group(0)\n",
    "    print totalpages"
   ]
  },
  {
   "cell_type": "markdown",
   "metadata": {},
   "source": [
    "## step2 睡一下"
   ]
  },
  {
   "cell_type": "code",
   "execution_count": 3,
   "metadata": {
    "collapsed": true
   },
   "outputs": [],
   "source": [
    "#隨機睡眠\n",
    "import random\n",
    "\n",
    "def sleeptime():\n",
    "    sleeptime=random.randint(3,7)\n",
    "    time.sleep(sleeptime) "
   ]
  },
  {
   "cell_type": "markdown",
   "metadata": {},
   "source": [
    "## step3 爬ptt文章"
   ]
  },
  {
   "cell_type": "code",
   "execution_count": null,
   "metadata": {
    "collapsed": false
   },
   "outputs": [],
   "source": [
    "import requests, re, time\n",
    "from bs4 import BeautifulSoup\n",
    "\n",
    "urlformat = 'https://www.ptt.cc/bbs/movie/index{}.html'  # XXX改成板名\n",
    "\n",
    "for i in xrange(3589, int(totalpages)):\n",
    "    url = urlformat.format(i)  #每頁連結\n",
    "#    print url\n",
    "    res = requests.get(url)\n",
    "    soup = BeautifulSoup(res.text, 'html.parser')\n",
    "    headers={\n",
    "        'user-agent':'Mozilla/5.0 (Windows NT 6.1; WOW64) AppleWebKit/537.36 (KHTML, like Gecko) Chrome/51.0.2704.103 Safari/537.36'\n",
    "    }\n",
    "    for entry in soup.select('.r-ent'):\n",
    "        try:\n",
    "            num = entry.select('a')[0]['href']\n",
    "            sub_url = \"https://www.ptt.cc\" + num  #每篇貼文連結\n",
    "#             print sub_url\n",
    "        except:\n",
    "            continue\n",
    "        \n",
    "        res1 = requests.get(sub_url, headers=headers)\n",
    "        soup1 = BeautifulSoup(res1.text)\n",
    "        \n",
    "        m = re.search('\\d{1,}', num)  #每篇貼文流水號\n",
    "        ele_num = m.group(0)\n",
    "        with open('C:\\Users\\BIG DATA\\ptt_moive\\{}.txt'.format(ele_num), 'w') as f:\n",
    "            for content in soup1.select('#main-content'):  #貼文內容\n",
    "                #print content.text\n",
    "                c = content.text.replace('\\n', ',')\n",
    "                f.write(c.encode('utf8'))\n",
    "                sleeptime()"
   ]
  },
  {
   "cell_type": "code",
   "execution_count": null,
   "metadata": {
    "collapsed": false,
    "scrolled": true
   },
   "outputs": [],
   "source": []
  }
 ],
 "metadata": {
  "kernelspec": {
   "display_name": "Python 2",
   "language": "python",
   "name": "python2"
  },
  "language_info": {
   "codemirror_mode": {
    "name": "ipython",
    "version": 2
   },
   "file_extension": ".py",
   "mimetype": "text/x-python",
   "name": "python",
   "nbconvert_exporter": "python",
   "pygments_lexer": "ipython2",
   "version": "2.7.11"
  }
 },
 "nbformat": 4,
 "nbformat_minor": 0
}
