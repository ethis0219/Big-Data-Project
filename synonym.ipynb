{
 "cells": [
  {
   "cell_type": "markdown",
   "metadata": {},
   "source": [
    "## 一些list的用法"
   ]
  },
  {
   "cell_type": "code",
   "execution_count": 46,
   "metadata": {
    "collapsed": false
   },
   "outputs": [
    {
     "name": "stdout",
     "output_type": "stream",
     "text": [
      "2\n",
      "[1, 4]\n",
      "['a', 3, 5]\n"
     ]
    }
   ],
   "source": [
    "a = [1,4,'a',3,5]\n",
    "print a.index('a')  #印出'a'在list出現的位置 -> [2]\n",
    "print a[:2]  #印出[2]之前的字串\n",
    "print a[2:]  #印出[2]之後(包含[2])的字串"
   ]
  },
  {
   "cell_type": "markdown",
   "metadata": {},
   "source": [
    "## 試著把同義詞配對"
   ]
  },
  {
   "cell_type": "code",
   "execution_count": 47,
   "metadata": {
    "collapsed": false
   },
   "outputs": [
    {
     "name": "stdout",
     "output_type": "stream",
     "text": [
      "{'\\xe9\\xae\\xae\\xe4\\xb9\\xb3': '\\xe7\\x89\\x9b\\xe5\\xa5\\xb6', '\\xe7\\x89\\x9b\\xe4\\xb9\\xb3': '\\xe7\\x89\\x9b\\xe5\\xa5\\xb6', '\\xe9\\xae\\xae\\xe5\\xa5\\xb6': '\\xe7\\x89\\x9b\\xe5\\xa5\\xb6'}\n",
      "=========\n",
      "鮮乳是key\n",
      "牛乳是key\n",
      "鮮奶是key\n",
      "牛奶是value\n",
      "=========\n",
      "鮮乳:牛奶\n",
      "牛乳:牛奶\n",
      "鮮奶:牛奶\n"
     ]
    }
   ],
   "source": [
    "a=['牛奶','牛乳','鮮奶','鮮乳']\n",
    "dic={}\n",
    "for i in a[1:]:  #除了牛奶，依序把'牛乳','鮮奶','鮮乳'丟給 i\n",
    "    dic[i] = a[0]  #把牛乳(=dic[0])、鮮奶(=dic[1])、鮮乳(=dic[2])與牛奶(=a[0])配對\n",
    "print dic\n",
    "print '========='\n",
    "\n",
    "for k in dic:\n",
    "    print k + '是key'\n",
    "print dic.values()[0] + '是value'\n",
    "print '========='\n",
    "\n",
    "for j in xrange(0,3):\n",
    "    print dic.keys()[j]+':'+dic.values()[j]"
   ]
  },
  {
   "cell_type": "code",
   "execution_count": 48,
   "metadata": {
    "collapsed": false
   },
   "outputs": [],
   "source": [
    "#把同義詞建成字典\n",
    "test_file1 = open('classification.txt','r')\n",
    "dic={}\n",
    "for i in test_file1.readlines():\n",
    "#     a = i.split(',')\n",
    "#     print a[:2]\n",
    "    if '' in i.split(','): \n",
    "        a = i.split(',')[:i.split(',').index('')] #如果有空白的話，把後面空白截掉\n",
    "        for j in a[1:]:\n",
    "            dic[j] = a[0] #把同義詞對到食材\n",
    "    else:\n",
    "        a = i.split(',') \n",
    "        for j in a[1:]:  \n",
    "            dic[j] = a[0]\n",
    "            \n",
    "test_file2 = open('dic_add.txt','w')\n",
    "for k in dic:\n",
    "    test_file2.write(k+':'+dic.values()[0]+'\\n')  #將dic寫出存成txt檔\n",
    "\n",
    "# for k in dic:\n",
    "#     test_file2.write(k+' 3'+' n'+'\\n') #變成jieba字典的格式加到jieba字典\n",
    "    \n",
    "test_file2.close()\n",
    "test_file1.close()"
   ]
  },
  {
   "cell_type": "code",
   "execution_count": null,
   "metadata": {
    "collapsed": false
   },
   "outputs": [],
   "source": []
  }
 ],
 "metadata": {
  "kernelspec": {
   "display_name": "Python 2",
   "language": "python",
   "name": "python2"
  },
  "language_info": {
   "codemirror_mode": {
    "name": "ipython",
    "version": 2
   },
   "file_extension": ".py",
   "mimetype": "text/x-python",
   "name": "python",
   "nbconvert_exporter": "python",
   "pygments_lexer": "ipython2",
   "version": "2.7.11"
  }
 },
 "nbformat": 4,
 "nbformat_minor": 0
}
